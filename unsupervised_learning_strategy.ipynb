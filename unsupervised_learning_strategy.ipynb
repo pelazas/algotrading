{
 "cells": [
  {
   "cell_type": "code",
   "execution_count": 3,
   "id": "df1f0002-8ea5-424c-949e-af15a7fcf565",
   "metadata": {},
   "outputs": [],
   "source": [
    "from statsmodels.regression.rolling import RollingOLS\n",
    "import pandas_datareader.data as web\n",
    "import matplotlib.pyplot as plt\n",
    "import statsmodels.api as sm\n",
    "import pandas as pd\n",
    "import numpy as np\n",
    "import yfinance as yf\n",
    "import datetime as dt\n",
    "import talib\n",
    "import warnings\n",
    "warnings.filterwarnings('ignore')"
   ]
  },
  {
   "cell_type": "code",
   "execution_count": 6,
   "id": "b79ef238-60e7-41f0-a44c-c303c5f426cf",
   "metadata": {},
   "outputs": [],
   "source": [
    "sp500 = pd.read_html('https://en.wikipedia.org/wiki/List_of_S%26P_500_companies')[0]"
   ]
  },
  {
   "cell_type": "code",
   "execution_count": 8,
   "id": "3cc9f6e3-2992-41d4-9f3e-a3ac6caf829a",
   "metadata": {},
   "outputs": [],
   "source": [
    "sp500['Symbol'] = sp500['Symbol'].str.replace('.','-')\n",
    "symbols_list = sp500['Symbol'].unique().tolist()"
   ]
  },
  {
   "cell_type": "code",
   "execution_count": 11,
   "id": "144a1ffe-1769-49b6-b913-63bffd7ca4a1",
   "metadata": {},
   "outputs": [],
   "source": [
    "end_date = '2025-06-1'\n",
    "start_date = pd.to_datetime(end_date) - pd.DateOffset(365*8)"
   ]
  },
  {
   "cell_type": "code",
   "execution_count": 16,
   "id": "1c4b590c-fb7c-4d5e-abb1-dcd6b55ec373",
   "metadata": {},
   "outputs": [
    {
     "name": "stderr",
     "output_type": "stream",
     "text": [
      "[*********************100%***********************]  503 of 503 completed\n"
     ]
    }
   ],
   "source": [
    "df = yf.download(tickers=symbols_list,\n",
    "                 start=start_date,\n",
    "                 end=end_date)"
   ]
  },
  {
   "cell_type": "code",
   "execution_count": 20,
   "id": "5e08cfd3-1c87-4f06-991f-0a4e602ea497",
   "metadata": {},
   "outputs": [],
   "source": [
    "df = df.stack()"
   ]
  },
  {
   "cell_type": "code",
   "execution_count": 22,
   "id": "5b51f8c2-d6ff-4a11-b4f1-e309ffde9c22",
   "metadata": {},
   "outputs": [],
   "source": [
    "df.index.names= ['date','ticker']"
   ]
  },
  {
   "cell_type": "code",
   "execution_count": 24,
   "id": "c950a88f-2d5b-4d5d-8723-89054bf641cd",
   "metadata": {},
   "outputs": [],
   "source": [
    "df.columns = df.columns.str.lower()"
   ]
  },
  {
   "cell_type": "code",
   "execution_count": 25,
   "id": "c8fe2684-c3b7-43d2-aea4-27eb645c54ab",
   "metadata": {},
   "outputs": [
    {
     "data": {
      "text/html": [
       "<div>\n",
       "<style scoped>\n",
       "    .dataframe tbody tr th:only-of-type {\n",
       "        vertical-align: middle;\n",
       "    }\n",
       "\n",
       "    .dataframe tbody tr th {\n",
       "        vertical-align: top;\n",
       "    }\n",
       "\n",
       "    .dataframe thead th {\n",
       "        text-align: right;\n",
       "    }\n",
       "</style>\n",
       "<table border=\"1\" class=\"dataframe\">\n",
       "  <thead>\n",
       "    <tr style=\"text-align: right;\">\n",
       "      <th></th>\n",
       "      <th>Price</th>\n",
       "      <th>close</th>\n",
       "      <th>high</th>\n",
       "      <th>low</th>\n",
       "      <th>open</th>\n",
       "      <th>volume</th>\n",
       "    </tr>\n",
       "    <tr>\n",
       "      <th>date</th>\n",
       "      <th>ticker</th>\n",
       "      <th></th>\n",
       "      <th></th>\n",
       "      <th></th>\n",
       "      <th></th>\n",
       "      <th></th>\n",
       "    </tr>\n",
       "  </thead>\n",
       "  <tbody>\n",
       "    <tr>\n",
       "      <th rowspan=\"5\" valign=\"top\">2017-06-05</th>\n",
       "      <th>A</th>\n",
       "      <td>56.733013</td>\n",
       "      <td>57.146299</td>\n",
       "      <td>56.667263</td>\n",
       "      <td>57.108726</td>\n",
       "      <td>1473300.0</td>\n",
       "    </tr>\n",
       "    <tr>\n",
       "      <th>AAPL</th>\n",
       "      <td>35.854843</td>\n",
       "      <td>35.975967</td>\n",
       "      <td>35.745370</td>\n",
       "      <td>35.950345</td>\n",
       "      <td>101326800.0</td>\n",
       "    </tr>\n",
       "    <tr>\n",
       "      <th>ABBV</th>\n",
       "      <td>47.947407</td>\n",
       "      <td>48.195985</td>\n",
       "      <td>47.499960</td>\n",
       "      <td>47.762746</td>\n",
       "      <td>4918100.0</td>\n",
       "    </tr>\n",
       "    <tr>\n",
       "      <th>ABT</th>\n",
       "      <td>40.446320</td>\n",
       "      <td>40.559105</td>\n",
       "      <td>40.238104</td>\n",
       "      <td>40.402942</td>\n",
       "      <td>7810600.0</td>\n",
       "    </tr>\n",
       "    <tr>\n",
       "      <th>ACGL</th>\n",
       "      <td>31.167286</td>\n",
       "      <td>31.420855</td>\n",
       "      <td>31.094383</td>\n",
       "      <td>31.249697</td>\n",
       "      <td>2004900.0</td>\n",
       "    </tr>\n",
       "    <tr>\n",
       "      <th>...</th>\n",
       "      <th>...</th>\n",
       "      <td>...</td>\n",
       "      <td>...</td>\n",
       "      <td>...</td>\n",
       "      <td>...</td>\n",
       "      <td>...</td>\n",
       "    </tr>\n",
       "    <tr>\n",
       "      <th rowspan=\"5\" valign=\"top\">2025-05-30</th>\n",
       "      <th>XYL</th>\n",
       "      <td>126.040001</td>\n",
       "      <td>126.690002</td>\n",
       "      <td>125.199997</td>\n",
       "      <td>126.519997</td>\n",
       "      <td>2624100.0</td>\n",
       "    </tr>\n",
       "    <tr>\n",
       "      <th>YUM</th>\n",
       "      <td>143.940002</td>\n",
       "      <td>144.479996</td>\n",
       "      <td>143.089996</td>\n",
       "      <td>144.039993</td>\n",
       "      <td>3184400.0</td>\n",
       "    </tr>\n",
       "    <tr>\n",
       "      <th>ZBH</th>\n",
       "      <td>91.931602</td>\n",
       "      <td>92.799355</td>\n",
       "      <td>91.203495</td>\n",
       "      <td>92.699615</td>\n",
       "      <td>3505200.0</td>\n",
       "    </tr>\n",
       "    <tr>\n",
       "      <th>ZBRA</th>\n",
       "      <td>289.769989</td>\n",
       "      <td>290.559998</td>\n",
       "      <td>283.920013</td>\n",
       "      <td>289.929993</td>\n",
       "      <td>656100.0</td>\n",
       "    </tr>\n",
       "    <tr>\n",
       "      <th>ZTS</th>\n",
       "      <td>168.630005</td>\n",
       "      <td>169.789993</td>\n",
       "      <td>165.339996</td>\n",
       "      <td>166.919998</td>\n",
       "      <td>5467800.0</td>\n",
       "    </tr>\n",
       "  </tbody>\n",
       "</table>\n",
       "<p>989599 rows × 5 columns</p>\n",
       "</div>"
      ],
      "text/plain": [
       "Price                   close        high         low        open       volume\n",
       "date       ticker                                                             \n",
       "2017-06-05 A        56.733013   57.146299   56.667263   57.108726    1473300.0\n",
       "           AAPL     35.854843   35.975967   35.745370   35.950345  101326800.0\n",
       "           ABBV     47.947407   48.195985   47.499960   47.762746    4918100.0\n",
       "           ABT      40.446320   40.559105   40.238104   40.402942    7810600.0\n",
       "           ACGL     31.167286   31.420855   31.094383   31.249697    2004900.0\n",
       "...                       ...         ...         ...         ...          ...\n",
       "2025-05-30 XYL     126.040001  126.690002  125.199997  126.519997    2624100.0\n",
       "           YUM     143.940002  144.479996  143.089996  144.039993    3184400.0\n",
       "           ZBH      91.931602   92.799355   91.203495   92.699615    3505200.0\n",
       "           ZBRA    289.769989  290.559998  283.920013  289.929993     656100.0\n",
       "           ZTS     168.630005  169.789993  165.339996  166.919998    5467800.0\n",
       "\n",
       "[989599 rows x 5 columns]"
      ]
     },
     "execution_count": 25,
     "metadata": {},
     "output_type": "execute_result"
    }
   ],
   "source": [
    "df"
   ]
  },
  {
   "cell_type": "code",
   "execution_count": null,
   "id": "9e6ec38c-e82a-438a-8ec0-7c7572f4df29",
   "metadata": {},
   "outputs": [],
   "source": []
  }
 ],
 "metadata": {
  "kernelspec": {
   "display_name": "Python 3 (ipykernel)",
   "language": "python",
   "name": "python3"
  },
  "language_info": {
   "codemirror_mode": {
    "name": "ipython",
    "version": 3
   },
   "file_extension": ".py",
   "mimetype": "text/x-python",
   "name": "python",
   "nbconvert_exporter": "python",
   "pygments_lexer": "ipython3",
   "version": "3.11.4"
  }
 },
 "nbformat": 4,
 "nbformat_minor": 5
}
